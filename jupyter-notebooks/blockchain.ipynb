{
 "cells": [
  {
   "cell_type": "code",
   "execution_count": 2,
   "id": "8d35da99-59e0-451f-80bf-a023f869458b",
   "metadata": {
    "execution": {
     "iopub.execute_input": "2024-05-22T13:55:36.351071Z",
     "iopub.status.busy": "2024-05-22T13:55:36.350739Z",
     "iopub.status.idle": "2024-05-22T13:55:36.359919Z",
     "shell.execute_reply": "2024-05-22T13:55:36.358960Z",
     "shell.execute_reply.started": "2024-05-22T13:55:36.351047Z"
    }
   },
   "outputs": [],
   "source": [
    "from blockchain.blockchain import Blockchain"
   ]
  },
  {
   "cell_type": "code",
   "execution_count": 3,
   "id": "bc1cc9e3-61c0-4b1f-a29e-dfac521a6ca2",
   "metadata": {
    "execution": {
     "iopub.execute_input": "2024-05-22T13:55:37.069549Z",
     "iopub.status.busy": "2024-05-22T13:55:37.068993Z",
     "iopub.status.idle": "2024-05-22T13:55:37.077040Z",
     "shell.execute_reply": "2024-05-22T13:55:37.075708Z",
     "shell.execute_reply.started": "2024-05-22T13:55:37.069514Z"
    }
   },
   "outputs": [],
   "source": [
    "bc = Blockchain()"
   ]
  },
  {
   "cell_type": "code",
   "execution_count": 4,
   "id": "2e0abc1a-5e73-4f9c-b3dd-3756f3f05999",
   "metadata": {
    "execution": {
     "iopub.execute_input": "2024-05-22T13:55:37.659319Z",
     "iopub.status.busy": "2024-05-22T13:55:37.658340Z",
     "iopub.status.idle": "2024-05-22T13:55:37.674697Z",
     "shell.execute_reply": "2024-05-22T13:55:37.673367Z",
     "shell.execute_reply.started": "2024-05-22T13:55:37.659263Z"
    }
   },
   "outputs": [
    {
     "data": {
      "text/plain": [
       "[{'index': 1,\n",
       "  'timestamp': '2024-05-22T15:55:37.071587',\n",
       "  'data': 'genesis block',\n",
       "  'proof': 1,\n",
       "  'previous_hash': '0'}]"
      ]
     },
     "execution_count": 4,
     "metadata": {},
     "output_type": "execute_result"
    }
   ],
   "source": [
    "bc.chain"
   ]
  },
  {
   "cell_type": "code",
   "execution_count": 5,
   "id": "ba0f619d-18cb-4abb-b988-b2f8e586ede8",
   "metadata": {
    "execution": {
     "iopub.execute_input": "2024-05-22T13:55:38.399420Z",
     "iopub.status.busy": "2024-05-22T13:55:38.398531Z",
     "iopub.status.idle": "2024-05-22T13:55:38.593362Z",
     "shell.execute_reply": "2024-05-22T13:55:38.592126Z",
     "shell.execute_reply.started": "2024-05-22T13:55:38.399374Z"
    }
   },
   "outputs": [
    {
     "data": {
      "text/plain": [
       "[{'index': 1,\n",
       "  'timestamp': '2024-05-22T15:55:37.071587',\n",
       "  'data': 'genesis block',\n",
       "  'proof': 1,\n",
       "  'previous_hash': '0'},\n",
       " {'index': 2,\n",
       "  'timestamp': '2024-05-22T15:55:38.589131',\n",
       "  'data': 'Hello World',\n",
       "  'proof': 86603,\n",
       "  'previous_hash': 'b7f40b804f9e375d7f0428f07b241035043cc47eb94c0eb2c6d707ec9f97acec'}]"
      ]
     },
     "execution_count": 5,
     "metadata": {},
     "output_type": "execute_result"
    }
   ],
   "source": [
    "bc.mine_block(\"Hello World\")\n",
    "bc.chain"
   ]
  },
  {
   "cell_type": "code",
   "execution_count": 6,
   "id": "10d56b8d-13ac-4e16-820f-6da19e98bdb7",
   "metadata": {
    "execution": {
     "iopub.execute_input": "2024-05-22T13:55:39.166128Z",
     "iopub.status.busy": "2024-05-22T13:55:39.165633Z",
     "iopub.status.idle": "2024-05-22T13:55:39.174501Z",
     "shell.execute_reply": "2024-05-22T13:55:39.173209Z",
     "shell.execute_reply.started": "2024-05-22T13:55:39.166102Z"
    }
   },
   "outputs": [
    {
     "data": {
      "text/plain": [
       "True"
      ]
     },
     "execution_count": 6,
     "metadata": {},
     "output_type": "execute_result"
    }
   ],
   "source": [
    "bc.is_chain_valid()"
   ]
  },
  {
   "cell_type": "code",
   "execution_count": null,
   "id": "4032e095-a6b0-47c4-9f6a-4a7fcdbc7cf8",
   "metadata": {},
   "outputs": [],
   "source": []
  },
  {
   "cell_type": "code",
   "execution_count": null,
   "id": "68633a97-0101-42d8-841f-c6d0c1b69112",
   "metadata": {},
   "outputs": [],
   "source": []
  }
 ],
 "metadata": {
  "kernelspec": {
   "display_name": "Python 3 (ipykernel)",
   "language": "python",
   "name": "python3"
  },
  "language_info": {
   "codemirror_mode": {
    "name": "ipython",
    "version": 3
   },
   "file_extension": ".py",
   "mimetype": "text/x-python",
   "name": "python",
   "nbconvert_exporter": "python",
   "pygments_lexer": "ipython3",
   "version": "3.12.3"
  }
 },
 "nbformat": 4,
 "nbformat_minor": 5
}
