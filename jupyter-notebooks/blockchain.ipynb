{
 "cells": [
  {
   "cell_type": "code",
   "execution_count": 1,
   "id": "8d35da99-59e0-451f-80bf-a023f869458b",
   "metadata": {
    "execution": {
     "iopub.execute_input": "2024-05-21T13:23:36.613313Z",
     "iopub.status.busy": "2024-05-21T13:23:36.612836Z",
     "iopub.status.idle": "2024-05-21T13:23:36.625557Z",
     "shell.execute_reply": "2024-05-21T13:23:36.623409Z",
     "shell.execute_reply.started": "2024-05-21T13:23:36.613284Z"
    }
   },
   "outputs": [],
   "source": [
    "from api.blockchain import Blockchain"
   ]
  },
  {
   "cell_type": "code",
   "execution_count": 2,
   "id": "bc1cc9e3-61c0-4b1f-a29e-dfac521a6ca2",
   "metadata": {
    "execution": {
     "iopub.execute_input": "2024-05-21T13:23:36.627742Z",
     "iopub.status.busy": "2024-05-21T13:23:36.627213Z",
     "iopub.status.idle": "2024-05-21T13:23:36.636450Z",
     "shell.execute_reply": "2024-05-21T13:23:36.634506Z",
     "shell.execute_reply.started": "2024-05-21T13:23:36.627708Z"
    }
   },
   "outputs": [],
   "source": [
    "bc = Blockchain()"
   ]
  },
  {
   "cell_type": "code",
   "execution_count": 3,
   "id": "2e0abc1a-5e73-4f9c-b3dd-3756f3f05999",
   "metadata": {
    "execution": {
     "iopub.execute_input": "2024-05-21T13:23:36.641258Z",
     "iopub.status.busy": "2024-05-21T13:23:36.640693Z",
     "iopub.status.idle": "2024-05-21T13:23:36.656209Z",
     "shell.execute_reply": "2024-05-21T13:23:36.654617Z",
     "shell.execute_reply.started": "2024-05-21T13:23:36.641225Z"
    }
   },
   "outputs": [
    {
     "data": {
      "text/plain": [
       "[{'index': 1,\n",
       "  'timestamp': '2024-05-21T15:23:36.629235',\n",
       "  'data': 'genesis block',\n",
       "  'proof': 1,\n",
       "  'previous_hash': '0'}]"
      ]
     },
     "execution_count": 3,
     "metadata": {},
     "output_type": "execute_result"
    }
   ],
   "source": [
    "bc.chain"
   ]
  },
  {
   "cell_type": "code",
   "execution_count": 4,
   "id": "ba0f619d-18cb-4abb-b988-b2f8e586ede8",
   "metadata": {
    "execution": {
     "iopub.execute_input": "2024-05-21T13:23:36.658944Z",
     "iopub.status.busy": "2024-05-21T13:23:36.658330Z",
     "iopub.status.idle": "2024-05-21T13:23:36.810946Z",
     "shell.execute_reply": "2024-05-21T13:23:36.810222Z",
     "shell.execute_reply.started": "2024-05-21T13:23:36.658911Z"
    }
   },
   "outputs": [
    {
     "data": {
      "text/plain": [
       "[{'index': 1,\n",
       "  'timestamp': '2024-05-21T15:23:36.629235',\n",
       "  'data': 'genesis block',\n",
       "  'proof': 1,\n",
       "  'previous_hash': '0'},\n",
       " {'index': 2,\n",
       "  'timestamp': '2024-05-21T15:23:36.807435',\n",
       "  'data': 'Hello World',\n",
       "  'proof': 86603,\n",
       "  'previous_hash': '5fccf5527f918466a389a4407ce4f7d0119c1d3fda0e4ba8697fd9f6a07fa729'}]"
      ]
     },
     "execution_count": 4,
     "metadata": {},
     "output_type": "execute_result"
    }
   ],
   "source": [
    "bc.mine_block(\"Hello World\")\n",
    "bc.chain"
   ]
  },
  {
   "cell_type": "code",
   "execution_count": 5,
   "id": "10d56b8d-13ac-4e16-820f-6da19e98bdb7",
   "metadata": {
    "execution": {
     "iopub.execute_input": "2024-05-21T13:23:36.812925Z",
     "iopub.status.busy": "2024-05-21T13:23:36.811974Z",
     "iopub.status.idle": "2024-05-21T13:23:36.819365Z",
     "shell.execute_reply": "2024-05-21T13:23:36.818386Z",
     "shell.execute_reply.started": "2024-05-21T13:23:36.812889Z"
    }
   },
   "outputs": [
    {
     "data": {
      "text/plain": [
       "True"
      ]
     },
     "execution_count": 5,
     "metadata": {},
     "output_type": "execute_result"
    }
   ],
   "source": [
    "bc.is_chain_valid()"
   ]
  },
  {
   "cell_type": "code",
   "execution_count": null,
   "id": "4032e095-a6b0-47c4-9f6a-4a7fcdbc7cf8",
   "metadata": {},
   "outputs": [],
   "source": []
  }
 ],
 "metadata": {
  "kernelspec": {
   "display_name": "Python 3 (ipykernel)",
   "language": "python",
   "name": "python3"
  },
  "language_info": {
   "codemirror_mode": {
    "name": "ipython",
    "version": 3
   },
   "file_extension": ".py",
   "mimetype": "text/x-python",
   "name": "python",
   "nbconvert_exporter": "python",
   "pygments_lexer": "ipython3",
   "version": "3.12.3"
  }
 },
 "nbformat": 4,
 "nbformat_minor": 5
}
